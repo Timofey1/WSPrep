{
 "cells": [
  {
   "cell_type": "code",
   "execution_count": 144,
   "metadata": {},
   "outputs": [],
   "source": [
    "import warnings\n",
    "warnings.filterwarnings(\"ignore\")\n",
    "import pandas as pd\n",
    "from sklearn.model_selection import train_test_split\n",
    "from sklearn.feature_extraction.text import CountVectorizer\n",
    "import numpy as np\n",
    "from sklearn.feature_extraction.text import TfidfTransformer\n",
    "from sklearn.linear_model import SGDClassifier\n",
    "from sklearn.naive_bayes import MultinomialNB\n",
    "from sklearn.ensemble import RandomForestClassifier\n",
    "from sklearn.svm import SVC\n",
    "from sklearn.tree import DecisionTreeClassifier  \n",
    "from sklearn.metrics import accuracy_score\n",
    "from sklearn.metrics import classification_report\n",
    "from sklearn.pipeline import Pipeline\n",
    "from sklearn.metrics import confusion_matrix\n",
    "import matplotlib.pyplot as plt\n",
    "%matplotlib inline\n",
    "import seaborn as sns\n",
    "from sklearn.model_selection import GridSearchCV"
   ]
  },
  {
   "cell_type": "code",
   "execution_count": 145,
   "metadata": {},
   "outputs": [],
   "source": [
    "data = pd.read_csv(\"Smalldf.csv\")"
   ]
  },
  {
   "cell_type": "code",
   "execution_count": 146,
   "metadata": {},
   "outputs": [],
   "source": [
    "del data[\"Unnamed: 0\"]"
   ]
  },
  {
   "cell_type": "markdown",
   "metadata": {},
   "source": [
    "### т.к. в датасете не оказалось тестовых данных мы сделаем свои зашумленные данные. Я решил сделать 100 тестовых данных которые зашумлены на 25%"
   ]
  },
  {
   "cell_type": "code",
   "execution_count": 147,
   "metadata": {},
   "outputs": [
    {
     "data": {
      "text/plain": [
       "<mtrand.RandomState at 0x23867169048>"
      ]
     },
     "execution_count": 147,
     "metadata": {},
     "output_type": "execute_result"
    }
   ],
   "source": [
    "np.random.RandomState(42)"
   ]
  },
  {
   "cell_type": "code",
   "execution_count": 148,
   "metadata": {},
   "outputs": [],
   "source": [
    "len_W = data[\"W_without_stopwords\"].apply(lambda x: len(x.split(\" \")))"
   ]
  },
  {
   "cell_type": "code",
   "execution_count": 149,
   "metadata": {},
   "outputs": [],
   "source": [
    "tmp={\"T\":[],\"W\":[]}\n",
    "for _ in range(100):\n",
    "    first,second = np.random.randint(0,88),np.random.randint(0,88)\n",
    "    left = data[\"W_without_stopwords\"].iloc[first].split(\" \")[len_W[second]*1//4:]\n",
    "    right = data[\"W_without_stopwords\"].iloc[second].split(\" \")[:len_W[second]*1//4]\n",
    "    target = data[\"T\"].iloc[first]\n",
    "    full = \" \".join(left + right)\n",
    "    tmp[\"T\"].append(target)\n",
    "    tmp[\"W\"].append(full)"
   ]
  },
  {
   "cell_type": "code",
   "execution_count": 150,
   "metadata": {},
   "outputs": [],
   "source": [
    "test = pd.DataFrame(data=tmp)"
   ]
  },
  {
   "cell_type": "code",
   "execution_count": 151,
   "metadata": {},
   "outputs": [
    {
     "data": {
      "text/html": [
       "<div>\n",
       "<style scoped>\n",
       "    .dataframe tbody tr th:only-of-type {\n",
       "        vertical-align: middle;\n",
       "    }\n",
       "\n",
       "    .dataframe tbody tr th {\n",
       "        vertical-align: top;\n",
       "    }\n",
       "\n",
       "    .dataframe thead th {\n",
       "        text-align: right;\n",
       "    }\n",
       "</style>\n",
       "<table border=\"1\" class=\"dataframe\">\n",
       "  <thead>\n",
       "    <tr style=\"text-align: right;\">\n",
       "      <th></th>\n",
       "      <th>T</th>\n",
       "      <th>W</th>\n",
       "    </tr>\n",
       "  </thead>\n",
       "  <tbody>\n",
       "    <tr>\n",
       "      <td>0</td>\n",
       "      <td>сантехника и отопление</td>\n",
       "      <td>объектах осуществляет планирование проектирова...</td>\n",
       "    </tr>\n",
       "    <tr>\n",
       "      <td>1</td>\n",
       "      <td>сервис на воздушном транспорте</td>\n",
       "      <td>безопасности агент регистрации конкурсе возмож...</td>\n",
       "    </tr>\n",
       "    <tr>\n",
       "      <td>2</td>\n",
       "      <td>парикмахерское искусство</td>\n",
       "      <td>данного направления постоянно развивается явля...</td>\n",
       "    </tr>\n",
       "  </tbody>\n",
       "</table>\n",
       "</div>"
      ],
      "text/plain": [
       "                                T  \\\n",
       "0          сантехника и отопление   \n",
       "1  сервис на воздушном транспорте   \n",
       "2        парикмахерское искусство   \n",
       "\n",
       "                                                   W  \n",
       "0  объектах осуществляет планирование проектирова...  \n",
       "1  безопасности агент регистрации конкурсе возмож...  \n",
       "2  данного направления постоянно развивается явля...  "
      ]
     },
     "execution_count": 151,
     "metadata": {},
     "output_type": "execute_result"
    }
   ],
   "source": [
    "test.head(3)"
   ]
  },
  {
   "cell_type": "markdown",
   "metadata": {},
   "source": [
    "## подготовка тестовой и тренировочной выборки"
   ]
  },
  {
   "cell_type": "code",
   "execution_count": 152,
   "metadata": {},
   "outputs": [],
   "source": [
    "X_test = test[\"W\"]\n",
    "y_test = test[\"T\"]"
   ]
  },
  {
   "cell_type": "code",
   "execution_count": 153,
   "metadata": {},
   "outputs": [],
   "source": [
    "vectorizer = CountVectorizer()\n",
    "X_test_counts = vectorizer.fit_transform(X_test)\n",
    "transformer = TfidfTransformer()\n",
    "X_test_tfidf = transformer.fit_transform(X_test_counts)"
   ]
  },
  {
   "cell_type": "code",
   "execution_count": 154,
   "metadata": {},
   "outputs": [
    {
     "data": {
      "text/plain": [
       "(100, 5568)"
      ]
     },
     "execution_count": 154,
     "metadata": {},
     "output_type": "execute_result"
    }
   ],
   "source": [
    "X_test_counts.shape"
   ]
  },
  {
   "cell_type": "code",
   "execution_count": 155,
   "metadata": {},
   "outputs": [],
   "source": [
    "X_train = data[\"W_without_stopwords\"]"
   ]
  },
  {
   "cell_type": "code",
   "execution_count": 156,
   "metadata": {},
   "outputs": [],
   "source": [
    "y_train = data[\"T\"]"
   ]
  },
  {
   "cell_type": "code",
   "execution_count": 157,
   "metadata": {},
   "outputs": [],
   "source": [
    "vectorizer = CountVectorizer()"
   ]
  },
  {
   "cell_type": "code",
   "execution_count": 158,
   "metadata": {},
   "outputs": [],
   "source": [
    "X_train_counts = vectorizer.fit_transform(X_train)"
   ]
  },
  {
   "cell_type": "code",
   "execution_count": 159,
   "metadata": {},
   "outputs": [
    {
     "data": {
      "text/plain": [
       "(88, 6983)"
      ]
     },
     "execution_count": 159,
     "metadata": {},
     "output_type": "execute_result"
    }
   ],
   "source": [
    "X_train_counts.shape"
   ]
  },
  {
   "cell_type": "code",
   "execution_count": 160,
   "metadata": {},
   "outputs": [
    {
     "data": {
      "text/plain": [
       "(88, 6983)"
      ]
     },
     "execution_count": 160,
     "metadata": {},
     "output_type": "execute_result"
    }
   ],
   "source": [
    "transformer = TfidfTransformer()\n",
    "X_train_tfidf = transformer.fit_transform(X_train_counts)\n",
    "X_train_tfidf.shape"
   ]
  },
  {
   "cell_type": "markdown",
   "metadata": {},
   "source": [
    "## Классификаторы "
   ]
  },
  {
   "cell_type": "code",
   "execution_count": 161,
   "metadata": {},
   "outputs": [],
   "source": [
    "models = [\n",
    "        SGDClassifier(),\n",
    "        MultinomialNB(),\n",
    "        RandomForestClassifier(),\n",
    "        SVC(),\n",
    "        DecisionTreeClassifier()\n",
    "        ]"
   ]
  },
  {
   "cell_type": "markdown",
   "metadata": {},
   "source": [
    "#### использую pipeline "
   ]
  },
  {
   "cell_type": "code",
   "execution_count": 162,
   "metadata": {},
   "outputs": [
    {
     "name": "stdout",
     "output_type": "stream",
     "text": [
      "SGDClassifier(alpha=0.0001, average=False, class_weight=None,\n",
      "              early_stopping=False, epsilon=0.1, eta0=0.0, fit_intercept=True,\n",
      "              l1_ratio=0.15, learning_rate='optimal', loss='hinge',\n",
      "              max_iter=1000, n_iter_no_change=5, n_jobs=None, penalty='l2',\n",
      "              power_t=0.5, random_state=None, shuffle=True, tol=0.001,\n",
      "              validation_fraction=0.1, verbose=0, warm_start=False)\n",
      "accuracy_score 0.84\n",
      "MultinomialNB(alpha=1.0, class_prior=None, fit_prior=True)\n",
      "accuracy_score 0.42\n",
      "RandomForestClassifier(bootstrap=True, class_weight=None, criterion='gini',\n",
      "                       max_depth=None, max_features='auto', max_leaf_nodes=None,\n",
      "                       min_impurity_decrease=0.0, min_impurity_split=None,\n",
      "                       min_samples_leaf=1, min_samples_split=2,\n",
      "                       min_weight_fraction_leaf=0.0, n_estimators='warn',\n",
      "                       n_jobs=None, oob_score=False, random_state=None,\n",
      "                       verbose=0, warm_start=False)\n",
      "accuracy_score 0.74\n",
      "SVC(C=1.0, cache_size=200, class_weight=None, coef0=0.0,\n",
      "    decision_function_shape='ovr', degree=3, gamma='auto_deprecated',\n",
      "    kernel='rbf', max_iter=-1, probability=False, random_state=None,\n",
      "    shrinking=True, tol=0.001, verbose=False)\n",
      "accuracy_score 0.08\n",
      "DecisionTreeClassifier(class_weight=None, criterion='gini', max_depth=None,\n",
      "                       max_features=None, max_leaf_nodes=None,\n",
      "                       min_impurity_decrease=0.0, min_impurity_split=None,\n",
      "                       min_samples_leaf=1, min_samples_split=2,\n",
      "                       min_weight_fraction_leaf=0.0, presort=False,\n",
      "                       random_state=None, splitter='best')\n",
      "accuracy_score 0.6\n"
     ]
    }
   ],
   "source": [
    "TestModels = pd.DataFrame()\n",
    "temp = {}\n",
    "for model in models:\n",
    "    m = str(model)\n",
    "    print(m)\n",
    "    temp['Model'] = m[:m.index('(')]\n",
    "    \n",
    "    text_clf = Pipeline([('vect', CountVectorizer()),\n",
    "                      ('tfidf', TfidfTransformer()),\n",
    "                      ('clf', model),\n",
    "    ])\n",
    "    \n",
    "    text_clf = text_clf.fit(X_train, y_train)\n",
    "    pred = text_clf.predict(X_test)\n",
    "    \n",
    "    temp['accuracy_score'] = accuracy_score(pred, y_test)\n",
    "    print('accuracy_score', accuracy_score(pred, y_test))\n",
    "    TestModels = TestModels.append([temp])\n",
    "TestModels.set_index('Model', inplace=True)\n"
   ]
  },
  {
   "cell_type": "markdown",
   "metadata": {},
   "source": [
    "## Как видно из графика случайный лес и градиент показали себя лучше всего "
   ]
  },
  {
   "cell_type": "code",
   "execution_count": 163,
   "metadata": {},
   "outputs": [
    {
     "data": {
      "image/png": "[encoded data removed]",
      "text/plain": [
       "<Figure size 504x504 with 1 Axes>"
      ]
     },
     "metadata": {
      "needs_background": "light"
     },
     "output_type": "display_data"
    }
   ],
   "source": [
    "fig, axes = plt.subplots(ncols=1, figsize=(7, 7))\n",
    "TestModels.accuracy_score.plot(ax=axes, kind='bar', title='accuracy_score')\n",
    "plt.show()"
   ]
  },
  {
   "cell_type": "markdown",
   "metadata": {},
   "source": [
    "## Подбор гиперпараметров"
   ]
  },
  {
   "cell_type": "code",
   "execution_count": 164,
   "metadata": {},
   "outputs": [],
   "source": [
    "TMP={\"n_estimators\":[],\"max_depth\":[],\"accuracy_score\":[]}\n",
    "\n",
    "param_rand_f = {\n",
    "    'n_estimators'      : [10,50,100,150,200],\n",
    "    'max_depth'         : [8, 9, 10, 11, 12],\n",
    "}\n",
    "\n",
    "\n",
    "for n_e in param_rand_f[\"n_estimators\"]:\n",
    "    for m_d in param_rand_f[\"max_depth\"]:\n",
    "        clf = RandomForestClassifier(n_estimators=n_e, max_depth=m_d)\n",
    "        text_clf = Pipeline([('vect', CountVectorizer()),\n",
    "                      ('tfidf', TfidfTransformer()),\n",
    "                      ('clf', clf),\n",
    "        ])\n",
    "    \n",
    "        text_clf = text_clf.fit(X_train, y_train)\n",
    "        pred = text_clf.predict(X_test)\n",
    "    \n",
    "#         print('accuracy_score', accuracy_score(pred, y_test),\"n_estimators\",n_e,\"max_depth\",m_d, sep=\" \")\n",
    "        TMP[\"n_estimators\"].append(n_e)\n",
    "        TMP[\"max_depth\"].append(m_d)\n",
    "        TMP[\"accuracy_score\"].append(accuracy_score(pred, y_test))\n"
   ]
  },
  {
   "cell_type": "code",
   "execution_count": 165,
   "metadata": {},
   "outputs": [
    {
     "data": {
      "text/html": [
       "<div>\n",
       "<style scoped>\n",
       "    .dataframe tbody tr th:only-of-type {\n",
       "        vertical-align: middle;\n",
       "    }\n",
       "\n",
       "    .dataframe tbody tr th {\n",
       "        vertical-align: top;\n",
       "    }\n",
       "\n",
       "    .dataframe thead th {\n",
       "        text-align: right;\n",
       "    }\n",
       "</style>\n",
       "<table border=\"1\" class=\"dataframe\">\n",
       "  <thead>\n",
       "    <tr style=\"text-align: right;\">\n",
       "      <th></th>\n",
       "      <th>n_estimators</th>\n",
       "      <th>max_depth</th>\n",
       "      <th>accuracy_score</th>\n",
       "    </tr>\n",
       "  </thead>\n",
       "  <tbody>\n",
       "    <tr>\n",
       "      <td>21</td>\n",
       "      <td>200</td>\n",
       "      <td>9</td>\n",
       "      <td>0.88</td>\n",
       "    </tr>\n",
       "    <tr>\n",
       "      <td>23</td>\n",
       "      <td>200</td>\n",
       "      <td>11</td>\n",
       "      <td>0.88</td>\n",
       "    </tr>\n",
       "  </tbody>\n",
       "</table>\n",
       "</div>"
      ],
      "text/plain": [
       "    n_estimators  max_depth  accuracy_score\n",
       "21           200          9            0.88\n",
       "23           200         11            0.88"
      ]
     },
     "execution_count": 165,
     "metadata": {},
     "output_type": "execute_result"
    }
   ],
   "source": [
    "ScoreRFC = pd.DataFrame(data=TMP)\n",
    "ScoreRFC[ScoreRFC[\"accuracy_score\"] == ScoreRFC[\"accuracy_score\"].max()]"
   ]
  },
  {
   "cell_type": "code",
   "execution_count": 166,
   "metadata": {},
   "outputs": [],
   "source": [
    "param_SGD = {\n",
    "    'loss': ['hinge','log'],\n",
    "    'penalty': ['l1','l2'],\n",
    "    'alpha': [10 ** x for x in range(-6, 1)],\n",
    "    'l1_ratio': [0.05, 0.1, 0.2, 0.5, 0.8, 0.9, 0.95],\n",
    "}\n",
    "\n",
    "TMP={\"loss\":[],\"penalty\":[],\"l1_ratio\":[],\"alpha\":[],\"accuracy_score\":[]}\n",
    "\n",
    "for L in param_SGD[\"loss\"]:\n",
    "    for P in param_SGD[\"penalty\"]:\n",
    "        for l1_r in param_SGD[\"l1_ratio\"]:\n",
    "            for A in param_SGD[\"alpha\"]:\n",
    "                clf = SGDClassifier(loss=L, penalty=P, l1_ratio=l1_r, alpha=A)\n",
    "                text_clf = Pipeline([('vect', CountVectorizer()),\n",
    "                              ('tfidf', TfidfTransformer()),\n",
    "                              ('clf', clf),\n",
    "                ])\n",
    "\n",
    "                text_clf = text_clf.fit(X_train, y_train)\n",
    "                pred = text_clf.predict(X_test)\n",
    "\n",
    "                TMP[\"loss\"].append(L)\n",
    "                TMP[\"penalty\"].append(P)\n",
    "                TMP[\"l1_ratio\"].append(l1_r)\n",
    "                TMP[\"alpha\"].append(A)\n",
    "                TMP[\"accuracy_score\"].append(accuracy_score(pred, y_test))\n",
    "ScoreSGD = pd.DataFrame(data=TMP)\n",
    "\n",
    "                \n",
    "#                 print('accuracy_score', accuracy_score(pred, y_test),\n",
    "#                       \"loss\", L,\n",
    "#                       \"penalty\", P,\n",
    "#                       \"l1_ratio\", l1_r,\n",
    "#                       \"alpha\", A,\n",
    "#                       sep=\" \")\n"
   ]
  },
  {
   "cell_type": "code",
   "execution_count": 167,
   "metadata": {},
   "outputs": [
    {
     "data": {
      "text/html": [
       "<div>\n",
       "<style scoped>\n",
       "    .dataframe tbody tr th:only-of-type {\n",
       "        vertical-align: middle;\n",
       "    }\n",
       "\n",
       "    .dataframe tbody tr th {\n",
       "        vertical-align: top;\n",
       "    }\n",
       "\n",
       "    .dataframe thead th {\n",
       "        text-align: right;\n",
       "    }\n",
       "</style>\n",
       "<table border=\"1\" class=\"dataframe\">\n",
       "  <thead>\n",
       "    <tr style=\"text-align: right;\">\n",
       "      <th></th>\n",
       "      <th>loss</th>\n",
       "      <th>penalty</th>\n",
       "      <th>l1_ratio</th>\n",
       "      <th>alpha</th>\n",
       "      <th>accuracy_score</th>\n",
       "    </tr>\n",
       "  </thead>\n",
       "  <tbody>\n",
       "    <tr>\n",
       "      <td>66</td>\n",
       "      <td>hinge</td>\n",
       "      <td>l2</td>\n",
       "      <td>0.2</td>\n",
       "      <td>0.001</td>\n",
       "      <td>0.88</td>\n",
       "    </tr>\n",
       "  </tbody>\n",
       "</table>\n",
       "</div>"
      ],
      "text/plain": [
       "     loss penalty  l1_ratio  alpha  accuracy_score\n",
       "66  hinge      l2       0.2  0.001            0.88"
      ]
     },
     "execution_count": 167,
     "metadata": {},
     "output_type": "execute_result"
    }
   ],
   "source": [
    "ScoreSGD[ScoreSGD[\"accuracy_score\"] == ScoreSGD[\"accuracy_score\"].max()]"
   ]
  },
  {
   "cell_type": "code",
   "execution_count": 2,
   "metadata": {},
   "outputs": [],
   "source": [
    "import pandas as pd\n",
    "df = pd.read_csv(\"C:\\\\Users\\\\User\\\\Desktop\\\\final_C1\\\\Fulldf.csv\")"
   ]
  },
  {
   "cell_type": "code",
   "execution_count": 6,
   "metadata": {},
   "outputs": [
    {
     "data": {
      "text/html": [
       "<div>\n",
       "<style scoped>\n",
       "    .dataframe tbody tr th:only-of-type {\n",
       "        vertical-align: middle;\n",
       "    }\n",
       "\n",
       "    .dataframe tbody tr th {\n",
       "        vertical-align: top;\n",
       "    }\n",
       "\n",
       "    .dataframe thead th {\n",
       "        text-align: right;\n",
       "    }\n",
       "</style>\n",
       "<table border=\"1\" class=\"dataframe\">\n",
       "  <thead>\n",
       "    <tr style=\"text-align: right;\">\n",
       "      <th></th>\n",
       "      <th>Unnamed: 0</th>\n",
       "      <th>0</th>\n",
       "      <th>ALL_W</th>\n",
       "    </tr>\n",
       "  </thead>\n",
       "  <tbody>\n",
       "    <tr>\n",
       "      <td>0</td>\n",
       "      <td>0</td>\n",
       "      <td>Разработка компьютерных игр и мультимедийных п...</td>\n",
       "      <td>разработка компьютерных игр и мультимеди...</td>\n",
       "    </tr>\n",
       "    <tr>\n",
       "      <td>1</td>\n",
       "      <td>1</td>\n",
       "      <td>Разработка мобильных приложений(юниоры)</td>\n",
       "      <td>разработка компьютерных игр и мультимеди...</td>\n",
       "    </tr>\n",
       "    <tr>\n",
       "      <td>2</td>\n",
       "      <td>2</td>\n",
       "      <td>Преподавание в младших классах</td>\n",
       "      <td>разработка компьютерных игр и мультимеди...</td>\n",
       "    </tr>\n",
       "    <tr>\n",
       "      <td>3</td>\n",
       "      <td>3</td>\n",
       "      <td>Дошкольное воспитание(юниоры)</td>\n",
       "      <td>разработка компьютерных игр и мультимеди...</td>\n",
       "    </tr>\n",
       "    <tr>\n",
       "      <td>4</td>\n",
       "      <td>4</td>\n",
       "      <td>Дошкольное воспитание</td>\n",
       "      <td>разработка компьютерных игр и мультимеди...</td>\n",
       "    </tr>\n",
       "    <tr>\n",
       "      <td>...</td>\n",
       "      <td>...</td>\n",
       "      <td>...</td>\n",
       "      <td>...</td>\n",
       "    </tr>\n",
       "    <tr>\n",
       "      <td>125</td>\n",
       "      <td>125</td>\n",
       "      <td>Электромонтаж</td>\n",
       "      <td>0      Разработка компьютерных игр и мультимед...</td>\n",
       "    </tr>\n",
       "    <tr>\n",
       "      <td>126</td>\n",
       "      <td>126</td>\n",
       "      <td>Электромонтаж (Юниоры)</td>\n",
       "      <td>0      Разработка компьютерных игр и мультимед...</td>\n",
       "    </tr>\n",
       "    <tr>\n",
       "      <td>127</td>\n",
       "      <td>127</td>\n",
       "      <td>Эстетическая косметология</td>\n",
       "      <td>0      Разработка компьютерных игр и мультимед...</td>\n",
       "    </tr>\n",
       "    <tr>\n",
       "      <td>128</td>\n",
       "      <td>128</td>\n",
       "      <td>Эстетическая косметология (Юниоры)</td>\n",
       "      <td>0      Разработка компьютерных игр и мультимед...</td>\n",
       "    </tr>\n",
       "    <tr>\n",
       "      <td>129</td>\n",
       "      <td>129</td>\n",
       "      <td>Ювелирное дело</td>\n",
       "      <td>0      Разработка компьютерных игр и мультимед...</td>\n",
       "    </tr>\n",
       "  </tbody>\n",
       "</table>\n",
       "<p>130 rows × 3 columns</p>\n",
       "</div>"
      ],
      "text/plain": [
       "     Unnamed: 0                                                  0  \\\n",
       "0             0  Разработка компьютерных игр и мультимедийных п...   \n",
       "1             1            Разработка мобильных приложений(юниоры)   \n",
       "2             2                     Преподавание в младших классах   \n",
       "3             3                      Дошкольное воспитание(юниоры)   \n",
       "4             4                              Дошкольное воспитание   \n",
       "..          ...                                                ...   \n",
       "125         125                                      Электромонтаж   \n",
       "126         126                             Электромонтаж (Юниоры)   \n",
       "127         127                          Эстетическая косметология   \n",
       "128         128                 Эстетическая косметология (Юниоры)   \n",
       "129         129                                     Ювелирное дело   \n",
       "\n",
       "                                                 ALL_W  \n",
       "0          разработка компьютерных игр и мультимеди...  \n",
       "1          разработка компьютерных игр и мультимеди...  \n",
       "2          разработка компьютерных игр и мультимеди...  \n",
       "3          разработка компьютерных игр и мультимеди...  \n",
       "4          разработка компьютерных игр и мультимеди...  \n",
       "..                                                 ...  \n",
       "125  0      Разработка компьютерных игр и мультимед...  \n",
       "126  0      Разработка компьютерных игр и мультимед...  \n",
       "127  0      Разработка компьютерных игр и мультимед...  \n",
       "128  0      Разработка компьютерных игр и мультимед...  \n",
       "129  0      Разработка компьютерных игр и мультимед...  \n",
       "\n",
       "[130 rows x 3 columns]"
      ]
     },
     "execution_count": 6,
     "metadata": {},
     "output_type": "execute_result"
    }
   ],
   "source": [
    "df"
   ]
  },
  {
   "cell_type": "code",
   "execution_count": 5,
   "metadata": {},
   "outputs": [
    {
     "data": {
      "text/plain": [
       "Печатные технологии в прессе                               2\n",
       "Печатные технологии в прессе (Юниоры)                      1\n",
       "Разработка решений на базе блокчейн технологи              1\n",
       "ИТ-решения для бизнеса  на платформе «1С:Предприятие 8»    1\n",
       "Парикмахерское искусство                                   1\n",
       "                                                          ..\n",
       "Кузовной ремонт (Юниоры)                                   1\n",
       "Управление фронтальным погрузчиком                         1\n",
       "Хлебопечение                                               1\n",
       "Ландшафтный дизайн                                         1\n",
       "Дошкольное воспитание                                      1\n",
       "Name: 0, Length: 129, dtype: int64"
      ]
     },
     "execution_count": 5,
     "metadata": {},
     "output_type": "execute_result"
    }
   ],
   "source": [
    "df[\"0\"].value_counts()"
   ]
  },
  {
   "cell_type": "code",
   "execution_count": null,
   "metadata": {},
   "outputs": [],
   "source": []
  }
 ],
 "metadata": {
  "kernelspec": {
   "display_name": "Python 3",
   "language": "python",
   "name": "python3"
  },
  "language_info": {
   "codemirror_mode": {
    "name": "ipython",
    "version": 3
   },
   "file_extension": ".py",
   "mimetype": "text/x-python",
   "name": "python",
   "nbconvert_exporter": "python",
   "pygments_lexer": "ipython3",
   "version": "3.7.4"
  }
 },
 "nbformat": 4,
 "nbformat_minor": 2
}
