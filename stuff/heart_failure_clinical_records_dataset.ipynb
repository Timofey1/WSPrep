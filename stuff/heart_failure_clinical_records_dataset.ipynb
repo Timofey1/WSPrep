{
 "cells": [
  {
   "cell_type": "code",
   "execution_count": 1,
   "metadata": {},
   "outputs": [],
   "source": [
    "import pandas as pd\n",
    "import numpy as np\n",
    "import matplotlib.pyplot as plt\n",
    "import seaborn as sns\n",
    "%matplotlib inline"
   ]
  },
  {
   "cell_type": "code",
   "execution_count": 2,
   "metadata": {},
   "outputs": [],
   "source": [
    "df = pd.read_csv(\"heart_failure_clinical_records_dataset.csv\")"
   ]
  },
  {
   "cell_type": "code",
   "execution_count": 3,
   "metadata": {},
   "outputs": [
    {
     "data": {
      "text/html": [
       "<div>\n",
       "<style scoped>\n",
       "    .dataframe tbody tr th:only-of-type {\n",
       "        vertical-align: middle;\n",
       "    }\n",
       "\n",
       "    .dataframe tbody tr th {\n",
       "        vertical-align: top;\n",
       "    }\n",
       "\n",
       "    .dataframe thead th {\n",
       "        text-align: right;\n",
       "    }\n",
       "</style>\n",
       "<table border=\"1\" class=\"dataframe\">\n",
       "  <thead>\n",
       "    <tr style=\"text-align: right;\">\n",
       "      <th></th>\n",
       "      <th>age</th>\n",
       "      <th>anaemia</th>\n",
       "      <th>creatinine_phosphokinase</th>\n",
       "      <th>diabetes</th>\n",
       "      <th>ejection_fraction</th>\n",
       "      <th>high_blood_pressure</th>\n",
       "      <th>platelets</th>\n",
       "      <th>serum_creatinine</th>\n",
       "      <th>serum_sodium</th>\n",
       "      <th>sex</th>\n",
       "      <th>smoking</th>\n",
       "      <th>time</th>\n",
       "      <th>DEATH_EVENT</th>\n",
       "    </tr>\n",
       "  </thead>\n",
       "  <tbody>\n",
       "    <tr>\n",
       "      <td>0</td>\n",
       "      <td>75.0</td>\n",
       "      <td>0</td>\n",
       "      <td>582</td>\n",
       "      <td>0</td>\n",
       "      <td>20</td>\n",
       "      <td>1</td>\n",
       "      <td>265000.00</td>\n",
       "      <td>1.9</td>\n",
       "      <td>130</td>\n",
       "      <td>1</td>\n",
       "      <td>0</td>\n",
       "      <td>4</td>\n",
       "      <td>1</td>\n",
       "    </tr>\n",
       "    <tr>\n",
       "      <td>1</td>\n",
       "      <td>55.0</td>\n",
       "      <td>0</td>\n",
       "      <td>7861</td>\n",
       "      <td>0</td>\n",
       "      <td>38</td>\n",
       "      <td>0</td>\n",
       "      <td>263358.03</td>\n",
       "      <td>1.1</td>\n",
       "      <td>136</td>\n",
       "      <td>1</td>\n",
       "      <td>0</td>\n",
       "      <td>6</td>\n",
       "      <td>1</td>\n",
       "    </tr>\n",
       "    <tr>\n",
       "      <td>2</td>\n",
       "      <td>65.0</td>\n",
       "      <td>0</td>\n",
       "      <td>146</td>\n",
       "      <td>0</td>\n",
       "      <td>20</td>\n",
       "      <td>0</td>\n",
       "      <td>162000.00</td>\n",
       "      <td>1.3</td>\n",
       "      <td>129</td>\n",
       "      <td>1</td>\n",
       "      <td>1</td>\n",
       "      <td>7</td>\n",
       "      <td>1</td>\n",
       "    </tr>\n",
       "    <tr>\n",
       "      <td>3</td>\n",
       "      <td>50.0</td>\n",
       "      <td>1</td>\n",
       "      <td>111</td>\n",
       "      <td>0</td>\n",
       "      <td>20</td>\n",
       "      <td>0</td>\n",
       "      <td>210000.00</td>\n",
       "      <td>1.9</td>\n",
       "      <td>137</td>\n",
       "      <td>1</td>\n",
       "      <td>0</td>\n",
       "      <td>7</td>\n",
       "      <td>1</td>\n",
       "    </tr>\n",
       "    <tr>\n",
       "      <td>4</td>\n",
       "      <td>65.0</td>\n",
       "      <td>1</td>\n",
       "      <td>160</td>\n",
       "      <td>1</td>\n",
       "      <td>20</td>\n",
       "      <td>0</td>\n",
       "      <td>327000.00</td>\n",
       "      <td>2.7</td>\n",
       "      <td>116</td>\n",
       "      <td>0</td>\n",
       "      <td>0</td>\n",
       "      <td>8</td>\n",
       "      <td>1</td>\n",
       "    </tr>\n",
       "  </tbody>\n",
       "</table>\n",
       "</div>"
      ],
      "text/plain": [
       "    age  anaemia  creatinine_phosphokinase  diabetes  ejection_fraction  \\\n",
       "0  75.0        0                       582         0                 20   \n",
       "1  55.0        0                      7861         0                 38   \n",
       "2  65.0        0                       146         0                 20   \n",
       "3  50.0        1                       111         0                 20   \n",
       "4  65.0        1                       160         1                 20   \n",
       "\n",
       "   high_blood_pressure  platelets  serum_creatinine  serum_sodium  sex  \\\n",
       "0                    1  265000.00               1.9           130    1   \n",
       "1                    0  263358.03               1.1           136    1   \n",
       "2                    0  162000.00               1.3           129    1   \n",
       "3                    0  210000.00               1.9           137    1   \n",
       "4                    0  327000.00               2.7           116    0   \n",
       "\n",
       "   smoking  time  DEATH_EVENT  \n",
       "0        0     4            1  \n",
       "1        0     6            1  \n",
       "2        1     7            1  \n",
       "3        0     7            1  \n",
       "4        0     8            1  "
      ]
     },
     "execution_count": 3,
     "metadata": {},
     "output_type": "execute_result"
    }
   ],
   "source": [
    "df.head()"
   ]
  },
  {
   "cell_type": "code",
   "execution_count": 4,
   "metadata": {},
   "outputs": [
    {
     "data": {
      "text/plain": [
       "(299, 13)"
      ]
     },
     "execution_count": 4,
     "metadata": {},
     "output_type": "execute_result"
    }
   ],
   "source": [
    "df.shape"
   ]
  },
  {
   "cell_type": "code",
   "execution_count": 7,
   "metadata": {},
   "outputs": [
    {
     "data": {
      "text/html": [
       "<div>\n",
       "<style scoped>\n",
       "    .dataframe tbody tr th:only-of-type {\n",
       "        vertical-align: middle;\n",
       "    }\n",
       "\n",
       "    .dataframe tbody tr th {\n",
       "        vertical-align: top;\n",
       "    }\n",
       "\n",
       "    .dataframe thead th {\n",
       "        text-align: right;\n",
       "    }\n",
       "</style>\n",
       "<table border=\"1\" class=\"dataframe\">\n",
       "  <thead>\n",
       "    <tr style=\"text-align: right;\">\n",
       "      <th></th>\n",
       "      <th>age</th>\n",
       "      <th>anaemia</th>\n",
       "      <th>creatinine_phosphokinase</th>\n",
       "      <th>diabetes</th>\n",
       "      <th>ejection_fraction</th>\n",
       "      <th>high_blood_pressure</th>\n",
       "      <th>platelets</th>\n",
       "      <th>serum_creatinine</th>\n",
       "      <th>serum_sodium</th>\n",
       "      <th>sex</th>\n",
       "      <th>smoking</th>\n",
       "      <th>time</th>\n",
       "      <th>DEATH_EVENT</th>\n",
       "    </tr>\n",
       "  </thead>\n",
       "  <tbody>\n",
       "    <tr>\n",
       "      <td>count</td>\n",
       "      <td>299.000000</td>\n",
       "      <td>299.000000</td>\n",
       "      <td>299.000000</td>\n",
       "      <td>299.000000</td>\n",
       "      <td>299.000000</td>\n",
       "      <td>299.000000</td>\n",
       "      <td>299.000000</td>\n",
       "      <td>299.00000</td>\n",
       "      <td>299.000000</td>\n",
       "      <td>299.000000</td>\n",
       "      <td>299.00000</td>\n",
       "      <td>299.000000</td>\n",
       "      <td>299.00000</td>\n",
       "    </tr>\n",
       "    <tr>\n",
       "      <td>mean</td>\n",
       "      <td>60.833893</td>\n",
       "      <td>0.431438</td>\n",
       "      <td>581.839465</td>\n",
       "      <td>0.418060</td>\n",
       "      <td>38.083612</td>\n",
       "      <td>0.351171</td>\n",
       "      <td>263358.029264</td>\n",
       "      <td>1.39388</td>\n",
       "      <td>136.625418</td>\n",
       "      <td>0.648829</td>\n",
       "      <td>0.32107</td>\n",
       "      <td>130.260870</td>\n",
       "      <td>0.32107</td>\n",
       "    </tr>\n",
       "    <tr>\n",
       "      <td>std</td>\n",
       "      <td>11.894809</td>\n",
       "      <td>0.496107</td>\n",
       "      <td>970.287881</td>\n",
       "      <td>0.494067</td>\n",
       "      <td>11.834841</td>\n",
       "      <td>0.478136</td>\n",
       "      <td>97804.236869</td>\n",
       "      <td>1.03451</td>\n",
       "      <td>4.412477</td>\n",
       "      <td>0.478136</td>\n",
       "      <td>0.46767</td>\n",
       "      <td>77.614208</td>\n",
       "      <td>0.46767</td>\n",
       "    </tr>\n",
       "    <tr>\n",
       "      <td>min</td>\n",
       "      <td>40.000000</td>\n",
       "      <td>0.000000</td>\n",
       "      <td>23.000000</td>\n",
       "      <td>0.000000</td>\n",
       "      <td>14.000000</td>\n",
       "      <td>0.000000</td>\n",
       "      <td>25100.000000</td>\n",
       "      <td>0.50000</td>\n",
       "      <td>113.000000</td>\n",
       "      <td>0.000000</td>\n",
       "      <td>0.00000</td>\n",
       "      <td>4.000000</td>\n",
       "      <td>0.00000</td>\n",
       "    </tr>\n",
       "    <tr>\n",
       "      <td>25%</td>\n",
       "      <td>51.000000</td>\n",
       "      <td>0.000000</td>\n",
       "      <td>116.500000</td>\n",
       "      <td>0.000000</td>\n",
       "      <td>30.000000</td>\n",
       "      <td>0.000000</td>\n",
       "      <td>212500.000000</td>\n",
       "      <td>0.90000</td>\n",
       "      <td>134.000000</td>\n",
       "      <td>0.000000</td>\n",
       "      <td>0.00000</td>\n",
       "      <td>73.000000</td>\n",
       "      <td>0.00000</td>\n",
       "    </tr>\n",
       "    <tr>\n",
       "      <td>50%</td>\n",
       "      <td>60.000000</td>\n",
       "      <td>0.000000</td>\n",
       "      <td>250.000000</td>\n",
       "      <td>0.000000</td>\n",
       "      <td>38.000000</td>\n",
       "      <td>0.000000</td>\n",
       "      <td>262000.000000</td>\n",
       "      <td>1.10000</td>\n",
       "      <td>137.000000</td>\n",
       "      <td>1.000000</td>\n",
       "      <td>0.00000</td>\n",
       "      <td>115.000000</td>\n",
       "      <td>0.00000</td>\n",
       "    </tr>\n",
       "    <tr>\n",
       "      <td>75%</td>\n",
       "      <td>70.000000</td>\n",
       "      <td>1.000000</td>\n",
       "      <td>582.000000</td>\n",
       "      <td>1.000000</td>\n",
       "      <td>45.000000</td>\n",
       "      <td>1.000000</td>\n",
       "      <td>303500.000000</td>\n",
       "      <td>1.40000</td>\n",
       "      <td>140.000000</td>\n",
       "      <td>1.000000</td>\n",
       "      <td>1.00000</td>\n",
       "      <td>203.000000</td>\n",
       "      <td>1.00000</td>\n",
       "    </tr>\n",
       "    <tr>\n",
       "      <td>max</td>\n",
       "      <td>95.000000</td>\n",
       "      <td>1.000000</td>\n",
       "      <td>7861.000000</td>\n",
       "      <td>1.000000</td>\n",
       "      <td>80.000000</td>\n",
       "      <td>1.000000</td>\n",
       "      <td>850000.000000</td>\n",
       "      <td>9.40000</td>\n",
       "      <td>148.000000</td>\n",
       "      <td>1.000000</td>\n",
       "      <td>1.00000</td>\n",
       "      <td>285.000000</td>\n",
       "      <td>1.00000</td>\n",
       "    </tr>\n",
       "    <tr>\n",
       "      <td>isnull</td>\n",
       "      <td>0.000000</td>\n",
       "      <td>0.000000</td>\n",
       "      <td>0.000000</td>\n",
       "      <td>0.000000</td>\n",
       "      <td>0.000000</td>\n",
       "      <td>0.000000</td>\n",
       "      <td>0.000000</td>\n",
       "      <td>0.00000</td>\n",
       "      <td>0.000000</td>\n",
       "      <td>0.000000</td>\n",
       "      <td>0.00000</td>\n",
       "      <td>0.000000</td>\n",
       "      <td>0.00000</td>\n",
       "    </tr>\n",
       "  </tbody>\n",
       "</table>\n",
       "</div>"
      ],
      "text/plain": [
       "               age     anaemia  creatinine_phosphokinase    diabetes  \\\n",
       "count   299.000000  299.000000                299.000000  299.000000   \n",
       "mean     60.833893    0.431438                581.839465    0.418060   \n",
       "std      11.894809    0.496107                970.287881    0.494067   \n",
       "min      40.000000    0.000000                 23.000000    0.000000   \n",
       "25%      51.000000    0.000000                116.500000    0.000000   \n",
       "50%      60.000000    0.000000                250.000000    0.000000   \n",
       "75%      70.000000    1.000000                582.000000    1.000000   \n",
       "max      95.000000    1.000000               7861.000000    1.000000   \n",
       "isnull    0.000000    0.000000                  0.000000    0.000000   \n",
       "\n",
       "        ejection_fraction  high_blood_pressure      platelets  \\\n",
       "count          299.000000           299.000000     299.000000   \n",
       "mean            38.083612             0.351171  263358.029264   \n",
       "std             11.834841             0.478136   97804.236869   \n",
       "min             14.000000             0.000000   25100.000000   \n",
       "25%             30.000000             0.000000  212500.000000   \n",
       "50%             38.000000             0.000000  262000.000000   \n",
       "75%             45.000000             1.000000  303500.000000   \n",
       "max             80.000000             1.000000  850000.000000   \n",
       "isnull           0.000000             0.000000       0.000000   \n",
       "\n",
       "        serum_creatinine  serum_sodium         sex    smoking        time  \\\n",
       "count          299.00000    299.000000  299.000000  299.00000  299.000000   \n",
       "mean             1.39388    136.625418    0.648829    0.32107  130.260870   \n",
       "std              1.03451      4.412477    0.478136    0.46767   77.614208   \n",
       "min              0.50000    113.000000    0.000000    0.00000    4.000000   \n",
       "25%              0.90000    134.000000    0.000000    0.00000   73.000000   \n",
       "50%              1.10000    137.000000    1.000000    0.00000  115.000000   \n",
       "75%              1.40000    140.000000    1.000000    1.00000  203.000000   \n",
       "max              9.40000    148.000000    1.000000    1.00000  285.000000   \n",
       "isnull           0.00000      0.000000    0.000000    0.00000    0.000000   \n",
       "\n",
       "        DEATH_EVENT  \n",
       "count     299.00000  \n",
       "mean        0.32107  \n",
       "std         0.46767  \n",
       "min         0.00000  \n",
       "25%         0.00000  \n",
       "50%         0.00000  \n",
       "75%         1.00000  \n",
       "max         1.00000  \n",
       "isnull      0.00000  "
      ]
     },
     "execution_count": 7,
     "metadata": {},
     "output_type": "execute_result"
    }
   ],
   "source": [
    "df.describe().append(df.isnull().sum().rename(\"isnull\"))"
   ]
  },
  {
   "cell_type": "code",
   "execution_count": 8,
   "metadata": {},
   "outputs": [
    {
     "data": {
      "text/plain": [
       "<matplotlib.axes._subplots.AxesSubplot at 0x1fe3953a348>"
      ]
     },
     "execution_count": 8,
     "metadata": {},
     "output_type": "execute_result"
    },
    {
     "data": {
      "image/png": "[encoded data removed]",
      "text/plain": [
       "<Figure size 432x288 with 1 Axes>"
      ]
     },
     "metadata": {
      "needs_background": "light"
     },
     "output_type": "display_data"
    }
   ],
   "source": [
    "df.boxplot(column='creatinine_phosphokinase')"
   ]
  },
  {
   "cell_type": "code",
   "execution_count": 9,
   "metadata": {},
   "outputs": [
    {
     "data": {
      "text/plain": [
       "<matplotlib.axes._subplots.AxesSubplot at 0x1fe3a5f16c8>"
      ]
     },
     "execution_count": 9,
     "metadata": {},
     "output_type": "execute_result"
    },
    {
     "data": {
      "image/png": "[encoded data removed]",
      "text/plain": [
       "<Figure size 432x288 with 1 Axes>"
      ]
     },
     "metadata": {
      "needs_background": "light"
     },
     "output_type": "display_data"
    }
   ],
   "source": [
    "df.boxplot(column='platelets')"
   ]
  },
  {
   "cell_type": "code",
   "execution_count": 10,
   "metadata": {},
   "outputs": [
    {
     "data": {
      "text/plain": [
       "<seaborn.axisgrid.PairGrid at 0x1fe3a6599c8>"
      ]
     },
     "execution_count": 10,
     "metadata": {},
     "output_type": "execute_result"
    },
    {
     "data": {
      "image/png": "[encoded data removed]",
      "text/plain": [
       "<Figure size 900x180 with 5 Axes>"
      ]
     },
     "metadata": {
      "needs_background": "light"
     },
     "output_type": "display_data"
    }
   ],
   "source": [
    "sns.pairplot(df, y_vars = [\"DEATH_EVENT\"],x_vars=[\"age\",\"anaemia\",\"creatinine_phosphokinase\",\"diabetes\",\"ejection_fraction\"])"
   ]
  },
  {
   "cell_type": "code",
   "execution_count": 11,
   "metadata": {},
   "outputs": [
    {
     "data": {
      "text/plain": [
       "<seaborn.axisgrid.PairGrid at 0x1fe3a7c8348>"
      ]
     },
     "execution_count": 11,
     "metadata": {},
     "output_type": "execute_result"
    },
    {
     "data": {
      "image/png": "[encoded data removed]",
      "text/plain": [
       "<Figure size 720x180 with 4 Axes>"
      ]
     },
     "metadata": {
      "needs_background": "light"
     },
     "output_type": "display_data"
    }
   ],
   "source": [
    "sns.pairplot(df, y_vars = [\"DEATH_EVENT\"],x_vars=[\"high_blood_pressure\",\"platelets\",\"serum_creatinine\",\"serum_sodium\"])"
   ]
  },
  {
   "cell_type": "code",
   "execution_count": 26,
   "metadata": {},
   "outputs": [
    {
     "data": {
      "text/plain": [
       "(299, 13)"
      ]
     },
     "execution_count": 26,
     "metadata": {},
     "output_type": "execute_result"
    }
   ],
   "source": [
    "df.shape"
   ]
  },
  {
   "cell_type": "code",
   "execution_count": 27,
   "metadata": {},
   "outputs": [],
   "source": [
    "HP = df.copy()"
   ]
  },
  {
   "cell_type": "code",
   "execution_count": 29,
   "metadata": {},
   "outputs": [],
   "source": [
    "from scipy import stats\n",
    "HP=HP[(np.abs(stats.zscore(HP)) < 3).all(axis=1)]"
   ]
  },
  {
   "cell_type": "code",
   "execution_count": 30,
   "metadata": {},
   "outputs": [
    {
     "data": {
      "text/plain": [
       "(280, 13)"
      ]
     },
     "execution_count": 30,
     "metadata": {},
     "output_type": "execute_result"
    }
   ],
   "source": [
    "HP.shape"
   ]
  },
  {
   "cell_type": "code",
   "execution_count": 31,
   "metadata": {},
   "outputs": [
    {
     "data": {
      "text/plain": [
       "<matplotlib.axes._subplots.AxesSubplot at 0x1fe3b37c908>"
      ]
     },
     "execution_count": 31,
     "metadata": {},
     "output_type": "execute_result"
    },
    {
     "data": {
      "image/png": "[encoded data removed]",
      "text/plain": [
       "<Figure size 432x288 with 1 Axes>"
      ]
     },
     "metadata": {
      "needs_background": "light"
     },
     "output_type": "display_data"
    }
   ],
   "source": [
    "HP.boxplot(column='creatinine_phosphokinase')"
   ]
  },
  {
   "cell_type": "code",
   "execution_count": 32,
   "metadata": {},
   "outputs": [
    {
     "data": {
      "text/plain": [
       "<matplotlib.axes._subplots.AxesSubplot at 0x1fe3b3b1e48>"
      ]
     },
     "execution_count": 32,
     "metadata": {},
     "output_type": "execute_result"
    },
    {
     "data": {
      "image/png": "[encoded data removed]",
      "text/plain": [
       "<Figure size 432x288 with 1 Axes>"
      ]
     },
     "metadata": {
      "needs_background": "light"
     },
     "output_type": "display_data"
    }
   ],
   "source": [
    "HP.boxplot(column='platelets')"
   ]
  },
  {
   "cell_type": "code",
   "execution_count": 33,
   "metadata": {},
   "outputs": [],
   "source": [
    "from sklearn.model_selection import train_test_split\n",
    "from sklearn.feature_selection import RFE\n",
    "from statsmodels.stats.outliers_influence import variance_inflation_factor\n",
    "from sklearn.linear_model import LinearRegression"
   ]
  },
  {
   "cell_type": "code",
   "execution_count": 34,
   "metadata": {},
   "outputs": [],
   "source": [
    "X = HP.drop('DEATH_EVENT',axis=1)\n",
    "y = HP['DEATH_EVENT']\n",
    "X_train, X_test, y_train, y_test = train_test_split(X, y, test_size=0.3, random_state=42)"
   ]
  },
  {
   "cell_type": "code",
   "execution_count": 36,
   "metadata": {},
   "outputs": [
    {
     "data": {
      "text/html": [
       "<div>\n",
       "<style scoped>\n",
       "    .dataframe tbody tr th:only-of-type {\n",
       "        vertical-align: middle;\n",
       "    }\n",
       "\n",
       "    .dataframe tbody tr th {\n",
       "        vertical-align: top;\n",
       "    }\n",
       "\n",
       "    .dataframe thead th {\n",
       "        text-align: right;\n",
       "    }\n",
       "</style>\n",
       "<table border=\"1\" class=\"dataframe\">\n",
       "  <thead>\n",
       "    <tr style=\"text-align: right;\">\n",
       "      <th></th>\n",
       "      <th>VIF Factor</th>\n",
       "      <th>features</th>\n",
       "    </tr>\n",
       "  </thead>\n",
       "  <tbody>\n",
       "    <tr>\n",
       "      <td>0</td>\n",
       "      <td>31.5</td>\n",
       "      <td>age</td>\n",
       "    </tr>\n",
       "    <tr>\n",
       "      <td>1</td>\n",
       "      <td>1.9</td>\n",
       "      <td>anaemia</td>\n",
       "    </tr>\n",
       "    <tr>\n",
       "      <td>2</td>\n",
       "      <td>1.9</td>\n",
       "      <td>creatinine_phosphokinase</td>\n",
       "    </tr>\n",
       "    <tr>\n",
       "      <td>3</td>\n",
       "      <td>1.8</td>\n",
       "      <td>diabetes</td>\n",
       "    </tr>\n",
       "    <tr>\n",
       "      <td>4</td>\n",
       "      <td>13.2</td>\n",
       "      <td>ejection_fraction</td>\n",
       "    </tr>\n",
       "    <tr>\n",
       "      <td>5</td>\n",
       "      <td>1.7</td>\n",
       "      <td>high_blood_pressure</td>\n",
       "    </tr>\n",
       "    <tr>\n",
       "      <td>6</td>\n",
       "      <td>10.5</td>\n",
       "      <td>platelets</td>\n",
       "    </tr>\n",
       "    <tr>\n",
       "      <td>7</td>\n",
       "      <td>6.0</td>\n",
       "      <td>serum_creatinine</td>\n",
       "    </tr>\n",
       "    <tr>\n",
       "      <td>8</td>\n",
       "      <td>63.3</td>\n",
       "      <td>serum_sodium</td>\n",
       "    </tr>\n",
       "    <tr>\n",
       "      <td>9</td>\n",
       "      <td>3.8</td>\n",
       "      <td>sex</td>\n",
       "    </tr>\n",
       "    <tr>\n",
       "      <td>10</td>\n",
       "      <td>1.9</td>\n",
       "      <td>smoking</td>\n",
       "    </tr>\n",
       "    <tr>\n",
       "      <td>11</td>\n",
       "      <td>4.6</td>\n",
       "      <td>time</td>\n",
       "    </tr>\n",
       "  </tbody>\n",
       "</table>\n",
       "</div>"
      ],
      "text/plain": [
       "    VIF Factor                  features\n",
       "0         31.5                       age\n",
       "1          1.9                   anaemia\n",
       "2          1.9  creatinine_phosphokinase\n",
       "3          1.8                  diabetes\n",
       "4         13.2         ejection_fraction\n",
       "5          1.7       high_blood_pressure\n",
       "6         10.5                 platelets\n",
       "7          6.0          serum_creatinine\n",
       "8         63.3              serum_sodium\n",
       "9          3.8                       sex\n",
       "10         1.9                   smoking\n",
       "11         4.6                      time"
      ]
     },
     "execution_count": 36,
     "metadata": {},
     "output_type": "execute_result"
    }
   ],
   "source": [
    "vif = pd.DataFrame()\n",
    "vif[\"VIF Factor\"] = [variance_inflation_factor(X.values, i) for i in range(X.shape[1])]\n",
    "vif[\"features\"] = X.columns\n",
    "vif.round(1)"
   ]
  },
  {
   "cell_type": "code",
   "execution_count": 37,
   "metadata": {},
   "outputs": [],
   "source": [
    "del HP[\"serum_sodium\"]"
   ]
  },
  {
   "cell_type": "code",
   "execution_count": 38,
   "metadata": {},
   "outputs": [],
   "source": [
    "X = HP.drop('DEATH_EVENT',axis=1)\n",
    "y = HP['DEATH_EVENT']\n",
    "X_train, X_test, y_train, y_test = train_test_split(X, y, test_size=0.3, random_state=42)"
   ]
  },
  {
   "cell_type": "code",
   "execution_count": 39,
   "metadata": {},
   "outputs": [
    {
     "data": {
      "text/html": [
       "<div>\n",
       "<style scoped>\n",
       "    .dataframe tbody tr th:only-of-type {\n",
       "        vertical-align: middle;\n",
       "    }\n",
       "\n",
       "    .dataframe tbody tr th {\n",
       "        vertical-align: top;\n",
       "    }\n",
       "\n",
       "    .dataframe thead th {\n",
       "        text-align: right;\n",
       "    }\n",
       "</style>\n",
       "<table border=\"1\" class=\"dataframe\">\n",
       "  <thead>\n",
       "    <tr style=\"text-align: right;\">\n",
       "      <th></th>\n",
       "      <th>VIF Factor</th>\n",
       "      <th>features</th>\n",
       "    </tr>\n",
       "  </thead>\n",
       "  <tbody>\n",
       "    <tr>\n",
       "      <td>0</td>\n",
       "      <td>20.6</td>\n",
       "      <td>age</td>\n",
       "    </tr>\n",
       "    <tr>\n",
       "      <td>1</td>\n",
       "      <td>1.8</td>\n",
       "      <td>anaemia</td>\n",
       "    </tr>\n",
       "    <tr>\n",
       "      <td>2</td>\n",
       "      <td>1.8</td>\n",
       "      <td>creatinine_phosphokinase</td>\n",
       "    </tr>\n",
       "    <tr>\n",
       "      <td>3</td>\n",
       "      <td>1.7</td>\n",
       "      <td>diabetes</td>\n",
       "    </tr>\n",
       "    <tr>\n",
       "      <td>4</td>\n",
       "      <td>11.4</td>\n",
       "      <td>ejection_fraction</td>\n",
       "    </tr>\n",
       "    <tr>\n",
       "      <td>5</td>\n",
       "      <td>1.7</td>\n",
       "      <td>high_blood_pressure</td>\n",
       "    </tr>\n",
       "    <tr>\n",
       "      <td>6</td>\n",
       "      <td>9.0</td>\n",
       "      <td>platelets</td>\n",
       "    </tr>\n",
       "    <tr>\n",
       "      <td>7</td>\n",
       "      <td>5.7</td>\n",
       "      <td>serum_creatinine</td>\n",
       "    </tr>\n",
       "    <tr>\n",
       "      <td>8</td>\n",
       "      <td>3.7</td>\n",
       "      <td>sex</td>\n",
       "    </tr>\n",
       "    <tr>\n",
       "      <td>9</td>\n",
       "      <td>1.9</td>\n",
       "      <td>smoking</td>\n",
       "    </tr>\n",
       "    <tr>\n",
       "      <td>10</td>\n",
       "      <td>3.9</td>\n",
       "      <td>time</td>\n",
       "    </tr>\n",
       "  </tbody>\n",
       "</table>\n",
       "</div>"
      ],
      "text/plain": [
       "    VIF Factor                  features\n",
       "0         20.6                       age\n",
       "1          1.8                   anaemia\n",
       "2          1.8  creatinine_phosphokinase\n",
       "3          1.7                  diabetes\n",
       "4         11.4         ejection_fraction\n",
       "5          1.7       high_blood_pressure\n",
       "6          9.0                 platelets\n",
       "7          5.7          serum_creatinine\n",
       "8          3.7                       sex\n",
       "9          1.9                   smoking\n",
       "10         3.9                      time"
      ]
     },
     "execution_count": 39,
     "metadata": {},
     "output_type": "execute_result"
    }
   ],
   "source": [
    "vif = pd.DataFrame()\n",
    "vif[\"VIF Factor\"] = [variance_inflation_factor(X.values, i) for i in range(X.shape[1])]\n",
    "vif[\"features\"] = X.columns\n",
    "vif.round(1)"
   ]
  },
  {
   "cell_type": "code",
   "execution_count": 40,
   "metadata": {},
   "outputs": [],
   "source": [
    "del HP[\"ejection_fraction\"]"
   ]
  },
  {
   "cell_type": "code",
   "execution_count": 41,
   "metadata": {},
   "outputs": [
    {
     "data": {
      "text/html": [
       "<div>\n",
       "<style scoped>\n",
       "    .dataframe tbody tr th:only-of-type {\n",
       "        vertical-align: middle;\n",
       "    }\n",
       "\n",
       "    .dataframe tbody tr th {\n",
       "        vertical-align: top;\n",
       "    }\n",
       "\n",
       "    .dataframe thead th {\n",
       "        text-align: right;\n",
       "    }\n",
       "</style>\n",
       "<table border=\"1\" class=\"dataframe\">\n",
       "  <thead>\n",
       "    <tr style=\"text-align: right;\">\n",
       "      <th></th>\n",
       "      <th>VIF Factor</th>\n",
       "      <th>features</th>\n",
       "    </tr>\n",
       "  </thead>\n",
       "  <tbody>\n",
       "    <tr>\n",
       "      <td>0</td>\n",
       "      <td>15.6</td>\n",
       "      <td>age</td>\n",
       "    </tr>\n",
       "    <tr>\n",
       "      <td>1</td>\n",
       "      <td>1.8</td>\n",
       "      <td>anaemia</td>\n",
       "    </tr>\n",
       "    <tr>\n",
       "      <td>2</td>\n",
       "      <td>1.8</td>\n",
       "      <td>creatinine_phosphokinase</td>\n",
       "    </tr>\n",
       "    <tr>\n",
       "      <td>3</td>\n",
       "      <td>1.7</td>\n",
       "      <td>diabetes</td>\n",
       "    </tr>\n",
       "    <tr>\n",
       "      <td>4</td>\n",
       "      <td>1.6</td>\n",
       "      <td>high_blood_pressure</td>\n",
       "    </tr>\n",
       "    <tr>\n",
       "      <td>5</td>\n",
       "      <td>8.4</td>\n",
       "      <td>platelets</td>\n",
       "    </tr>\n",
       "    <tr>\n",
       "      <td>6</td>\n",
       "      <td>5.6</td>\n",
       "      <td>serum_creatinine</td>\n",
       "    </tr>\n",
       "    <tr>\n",
       "      <td>7</td>\n",
       "      <td>3.7</td>\n",
       "      <td>sex</td>\n",
       "    </tr>\n",
       "    <tr>\n",
       "      <td>8</td>\n",
       "      <td>1.9</td>\n",
       "      <td>smoking</td>\n",
       "    </tr>\n",
       "    <tr>\n",
       "      <td>9</td>\n",
       "      <td>3.7</td>\n",
       "      <td>time</td>\n",
       "    </tr>\n",
       "  </tbody>\n",
       "</table>\n",
       "</div>"
      ],
      "text/plain": [
       "   VIF Factor                  features\n",
       "0        15.6                       age\n",
       "1         1.8                   anaemia\n",
       "2         1.8  creatinine_phosphokinase\n",
       "3         1.7                  diabetes\n",
       "4         1.6       high_blood_pressure\n",
       "5         8.4                 platelets\n",
       "6         5.6          serum_creatinine\n",
       "7         3.7                       sex\n",
       "8         1.9                   smoking\n",
       "9         3.7                      time"
      ]
     },
     "execution_count": 41,
     "metadata": {},
     "output_type": "execute_result"
    }
   ],
   "source": [
    "X = HP.drop('DEATH_EVENT',axis=1)\n",
    "y = HP['DEATH_EVENT']\n",
    "X_train, X_test, y_train, y_test = train_test_split(X, y, test_size=0.3, random_state=42)\n",
    "vif = pd.DataFrame()\n",
    "vif[\"VIF Factor\"] = [variance_inflation_factor(X.values, i) for i in range(X.shape[1])]\n",
    "vif[\"features\"] = X.columns\n",
    "vif.round(1)"
   ]
  },
  {
   "cell_type": "code",
   "execution_count": 42,
   "metadata": {},
   "outputs": [],
   "source": [
    "del HP[\"age\"]"
   ]
  },
  {
   "cell_type": "code",
   "execution_count": 43,
   "metadata": {},
   "outputs": [
    {
     "data": {
      "text/html": [
       "<div>\n",
       "<style scoped>\n",
       "    .dataframe tbody tr th:only-of-type {\n",
       "        vertical-align: middle;\n",
       "    }\n",
       "\n",
       "    .dataframe tbody tr th {\n",
       "        vertical-align: top;\n",
       "    }\n",
       "\n",
       "    .dataframe thead th {\n",
       "        text-align: right;\n",
       "    }\n",
       "</style>\n",
       "<table border=\"1\" class=\"dataframe\">\n",
       "  <thead>\n",
       "    <tr style=\"text-align: right;\">\n",
       "      <th></th>\n",
       "      <th>VIF Factor</th>\n",
       "      <th>features</th>\n",
       "    </tr>\n",
       "  </thead>\n",
       "  <tbody>\n",
       "    <tr>\n",
       "      <td>0</td>\n",
       "      <td>1.7</td>\n",
       "      <td>anaemia</td>\n",
       "    </tr>\n",
       "    <tr>\n",
       "      <td>1</td>\n",
       "      <td>1.8</td>\n",
       "      <td>creatinine_phosphokinase</td>\n",
       "    </tr>\n",
       "    <tr>\n",
       "      <td>2</td>\n",
       "      <td>1.7</td>\n",
       "      <td>diabetes</td>\n",
       "    </tr>\n",
       "    <tr>\n",
       "      <td>3</td>\n",
       "      <td>1.6</td>\n",
       "      <td>high_blood_pressure</td>\n",
       "    </tr>\n",
       "    <tr>\n",
       "      <td>4</td>\n",
       "      <td>6.5</td>\n",
       "      <td>platelets</td>\n",
       "    </tr>\n",
       "    <tr>\n",
       "      <td>5</td>\n",
       "      <td>4.2</td>\n",
       "      <td>serum_creatinine</td>\n",
       "    </tr>\n",
       "    <tr>\n",
       "      <td>6</td>\n",
       "      <td>3.5</td>\n",
       "      <td>sex</td>\n",
       "    </tr>\n",
       "    <tr>\n",
       "      <td>7</td>\n",
       "      <td>1.9</td>\n",
       "      <td>smoking</td>\n",
       "    </tr>\n",
       "    <tr>\n",
       "      <td>8</td>\n",
       "      <td>3.6</td>\n",
       "      <td>time</td>\n",
       "    </tr>\n",
       "  </tbody>\n",
       "</table>\n",
       "</div>"
      ],
      "text/plain": [
       "   VIF Factor                  features\n",
       "0         1.7                   anaemia\n",
       "1         1.8  creatinine_phosphokinase\n",
       "2         1.7                  diabetes\n",
       "3         1.6       high_blood_pressure\n",
       "4         6.5                 platelets\n",
       "5         4.2          serum_creatinine\n",
       "6         3.5                       sex\n",
       "7         1.9                   smoking\n",
       "8         3.6                      time"
      ]
     },
     "execution_count": 43,
     "metadata": {},
     "output_type": "execute_result"
    }
   ],
   "source": [
    "X = HP.drop('DEATH_EVENT',axis=1)\n",
    "y = HP['DEATH_EVENT']\n",
    "X_train, X_test, y_train, y_test = train_test_split(X, y, test_size=0.3, random_state=42)\n",
    "vif = pd.DataFrame()\n",
    "vif[\"VIF Factor\"] = [variance_inflation_factor(X.values, i) for i in range(X.shape[1])]\n",
    "vif[\"features\"] = X.columns\n",
    "vif.round(1)"
   ]
  },
  {
   "cell_type": "code",
   "execution_count": 44,
   "metadata": {},
   "outputs": [],
   "source": [
    "del HP[\"platelets\"]"
   ]
  },
  {
   "cell_type": "code",
   "execution_count": 45,
   "metadata": {},
   "outputs": [
    {
     "data": {
      "text/html": [
       "<div>\n",
       "<style scoped>\n",
       "    .dataframe tbody tr th:only-of-type {\n",
       "        vertical-align: middle;\n",
       "    }\n",
       "\n",
       "    .dataframe tbody tr th {\n",
       "        vertical-align: top;\n",
       "    }\n",
       "\n",
       "    .dataframe thead th {\n",
       "        text-align: right;\n",
       "    }\n",
       "</style>\n",
       "<table border=\"1\" class=\"dataframe\">\n",
       "  <thead>\n",
       "    <tr style=\"text-align: right;\">\n",
       "      <th></th>\n",
       "      <th>VIF Factor</th>\n",
       "      <th>features</th>\n",
       "    </tr>\n",
       "  </thead>\n",
       "  <tbody>\n",
       "    <tr>\n",
       "      <td>0</td>\n",
       "      <td>1.6</td>\n",
       "      <td>anaemia</td>\n",
       "    </tr>\n",
       "    <tr>\n",
       "      <td>1</td>\n",
       "      <td>1.7</td>\n",
       "      <td>creatinine_phosphokinase</td>\n",
       "    </tr>\n",
       "    <tr>\n",
       "      <td>2</td>\n",
       "      <td>1.6</td>\n",
       "      <td>diabetes</td>\n",
       "    </tr>\n",
       "    <tr>\n",
       "      <td>3</td>\n",
       "      <td>1.4</td>\n",
       "      <td>high_blood_pressure</td>\n",
       "    </tr>\n",
       "    <tr>\n",
       "      <td>4</td>\n",
       "      <td>3.5</td>\n",
       "      <td>serum_creatinine</td>\n",
       "    </tr>\n",
       "    <tr>\n",
       "      <td>5</td>\n",
       "      <td>3.5</td>\n",
       "      <td>sex</td>\n",
       "    </tr>\n",
       "    <tr>\n",
       "      <td>6</td>\n",
       "      <td>1.8</td>\n",
       "      <td>smoking</td>\n",
       "    </tr>\n",
       "    <tr>\n",
       "      <td>7</td>\n",
       "      <td>3.0</td>\n",
       "      <td>time</td>\n",
       "    </tr>\n",
       "  </tbody>\n",
       "</table>\n",
       "</div>"
      ],
      "text/plain": [
       "   VIF Factor                  features\n",
       "0         1.6                   anaemia\n",
       "1         1.7  creatinine_phosphokinase\n",
       "2         1.6                  diabetes\n",
       "3         1.4       high_blood_pressure\n",
       "4         3.5          serum_creatinine\n",
       "5         3.5                       sex\n",
       "6         1.8                   smoking\n",
       "7         3.0                      time"
      ]
     },
     "execution_count": 45,
     "metadata": {},
     "output_type": "execute_result"
    }
   ],
   "source": [
    "X = HP.drop('DEATH_EVENT',axis=1)\n",
    "y = HP['DEATH_EVENT']\n",
    "X_train, X_test, y_train, y_test = train_test_split(X, y, test_size=0.3, random_state=42)\n",
    "vif = pd.DataFrame()\n",
    "vif[\"VIF Factor\"] = [variance_inflation_factor(X.values, i) for i in range(X.shape[1])]\n",
    "vif[\"features\"] = X.columns\n",
    "vif.round(1)"
   ]
  },
  {
   "cell_type": "code",
   "execution_count": 47,
   "metadata": {},
   "outputs": [
    {
     "data": {
      "text/plain": [
       "<matplotlib.axes._subplots.AxesSubplot at 0x1fe3b485548>"
      ]
     },
     "execution_count": 47,
     "metadata": {},
     "output_type": "execute_result"
    },
    {
     "data": {
      "image/png": "[encoded data removed]",
      "text/plain": [
       "<Figure size 720x720 with 2 Axes>"
      ]
     },
     "metadata": {
      "needs_background": "light"
     },
     "output_type": "display_data"
    }
   ],
   "source": [
    "corr = HP.corr()\n",
    "plt.figure(figsize=(10,10))\n",
    "sns.heatmap(corr)"
   ]
  },
  {
   "cell_type": "code",
   "execution_count": null,
   "metadata": {},
   "outputs": [],
   "source": []
  },
  {
   "cell_type": "code",
   "execution_count": null,
   "metadata": {},
   "outputs": [],
   "source": []
  },
  {
   "cell_type": "code",
   "execution_count": 52,
   "metadata": {},
   "outputs": [],
   "source": [
    "from sklearn.linear_model import LogisticRegression\n",
    "from sklearn.discriminant_analysis import LinearDiscriminantAnalysis  \n",
    "from sklearn.neighbors import KNeighborsClassifier  \n",
    "from sklearn.naive_bayes import GaussianNB  \n",
    "from sklearn.tree import DecisionTreeClassifier  \n",
    "from sklearn.svm import SVC\n",
    "from sklearn.ensemble import RandomForestClassifier"
   ]
  },
  {
   "cell_type": "code",
   "execution_count": 53,
   "metadata": {},
   "outputs": [],
   "source": [
    "models = [LogisticRegression(),\n",
    "          LinearDiscriminantAnalysis(),\n",
    "          KNeighborsClassifier(n_neighbors=5), \n",
    "          GaussianNB(),\n",
    "          DecisionTreeClassifier(random_state=42),\n",
    "          SVC(),\n",
    "          RandomForestClassifier(random_state=42, n_estimators=100), \n",
    "          ]"
   ]
  },
  {
   "cell_type": "code",
   "execution_count": 64,
   "metadata": {},
   "outputs": [],
   "source": [
    "X = HP.drop('DEATH_EVENT',axis=1)\n",
    "y = HP['DEATH_EVENT']\n",
    "X_train, X_test, y_train, y_test = train_test_split(X, y, test_size=0.3, random_state=42)"
   ]
  },
  {
   "cell_type": "code",
   "execution_count": 65,
   "metadata": {},
   "outputs": [
    {
     "name": "stdout",
     "output_type": "stream",
     "text": [
      "(280, 8)\n",
      "(280,)\n"
     ]
    }
   ],
   "source": [
    "print(X.shape)\n",
    "print(y.shape)"
   ]
  },
  {
   "cell_type": "code",
   "execution_count": 58,
   "metadata": {},
   "outputs": [],
   "source": [
    "from sklearn.metrics import classification_report  \n",
    "from sklearn.metrics import confusion_matrix  \n",
    "from sklearn.metrics import accuracy_score  "
   ]
  },
  {
   "cell_type": "code",
   "execution_count": 73,
   "metadata": {},
   "outputs": [
    {
     "name": "stdout",
     "output_type": "stream",
     "text": [
      "LogisticRegression(C=1.0, class_weight=None, dual=False, fit_intercept=True,\n",
      "                   intercept_scaling=1, l1_ratio=None, max_iter=100,\n",
      "                   multi_class='warn', n_jobs=None, penalty='l1',\n",
      "                   random_state=None, solver='warn', tol=0.0001, verbose=0,\n",
      "                   warm_start=False)\n",
      "accuracy_score 0.8214285714285714\n",
      "classification_report               precision    recall  f1-score   support\n",
      "\n",
      "           0       0.93      0.83      0.88        64\n",
      "           1       0.59      0.80      0.68        20\n",
      "\n",
      "    accuracy                           0.82        84\n",
      "   macro avg       0.76      0.81      0.78        84\n",
      "weighted avg       0.85      0.82      0.83        84\n",
      "\n",
      "confusion_matrix [[53 11]\n",
      " [ 4 16]]\n",
      "++++++++++++++++++++++++++++++++++++++++++++++++++++++++++++\n",
      "LinearDiscriminantAnalysis(n_components=None, priors=None, shrinkage=None,\n",
      "                           solver='svd', store_covariance=False, tol=0.0001)\n",
      "accuracy_score 0.7619047619047619\n",
      "classification_report               precision    recall  f1-score   support\n",
      "\n",
      "           0       0.91      0.78      0.84        67\n",
      "           1       0.44      0.71      0.55        17\n",
      "\n",
      "    accuracy                           0.76        84\n",
      "   macro avg       0.68      0.74      0.69        84\n",
      "weighted avg       0.82      0.76      0.78        84\n",
      "\n",
      "confusion_matrix [[52 15]\n",
      " [ 5 12]]\n",
      "++++++++++++++++++++++++++++++++++++++++++++++++++++++++++++\n",
      "KNeighborsClassifier(algorithm='auto', leaf_size=30, metric='minkowski',\n",
      "                     metric_params=None, n_jobs=None, n_neighbors=5, p=2,\n",
      "                     weights='uniform')\n",
      "accuracy_score 0.7738095238095238\n",
      "classification_report               precision    recall  f1-score   support\n",
      "\n",
      "           0       0.89      0.80      0.84        64\n",
      "           1       0.52      0.70      0.60        20\n",
      "\n",
      "    accuracy                           0.77        84\n",
      "   macro avg       0.71      0.75      0.72        84\n",
      "weighted avg       0.81      0.77      0.78        84\n",
      "\n",
      "confusion_matrix [[51 13]\n",
      " [ 6 14]]\n",
      "++++++++++++++++++++++++++++++++++++++++++++++++++++++++++++\n",
      "GaussianNB(priors=None, var_smoothing=1e-09)\n",
      "accuracy_score"
     ]
    },
    {
     "name": "stderr",
     "output_type": "stream",
     "text": [
      "C:\\Users\\User\\Anaconda3\\lib\\site-packages\\sklearn\\linear_model\\logistic.py:432: FutureWarning: Default solver will be changed to 'lbfgs' in 0.22. Specify a solver to silence this warning.\n",
      "  FutureWarning)\n"
     ]
    },
    {
     "name": "stdout",
     "output_type": "stream",
     "text": [
      " 0.8452380952380952\n",
      "classification_report               precision    recall  f1-score   support\n",
      "\n",
      "           0       0.95      0.84      0.89        64\n",
      "           1       0.63      0.85      0.72        20\n",
      "\n",
      "    accuracy                           0.85        84\n",
      "   macro avg       0.79      0.85      0.81        84\n",
      "weighted avg       0.87      0.85      0.85        84\n",
      "\n",
      "confusion_matrix [[54 10]\n",
      " [ 3 17]]\n",
      "++++++++++++++++++++++++++++++++++++++++++++++++++++++++++++\n",
      "DecisionTreeClassifier(class_weight=None, criterion='gini', max_depth=None,\n",
      "                       max_features=None, max_leaf_nodes=None,\n",
      "                       min_impurity_decrease=0.0, min_impurity_split=None,\n",
      "                       min_samples_leaf=1, min_samples_split=2,\n",
      "                       min_weight_fraction_leaf=0.0, presort=False,\n",
      "                       random_state=42, splitter='best')\n",
      "accuracy_score 0.7261904761904762\n",
      "classification_report               precision    recall  f1-score   support\n",
      "\n",
      "           0       0.84      0.77      0.81        62\n",
      "           1       0.48      0.59      0.53        22\n",
      "\n",
      "    accuracy                           0.73        84\n",
      "   macro avg       0.66      0.68      0.67        84\n",
      "weighted avg       0.75      0.73      0.73        84\n",
      "\n",
      "confusion_matrix [[48 14]\n",
      " [ 9 13]]\n",
      "++++++++++++++++++++++++++++++++++++++++++++++++++++++++++++\n",
      "SVC(C=1.0, cache_size=200, class_weight=None, coef0=0.0,\n",
      "    decision_function_shape='ovr', degree=3, gamma='auto_deprecated',\n",
      "    kernel='rbf', max_iter=-1, probability=False, random_state=None,\n",
      "    shrinking=True, tol=0.001, verbose=False)\n",
      "accuracy_score 0.6666666666666666\n",
      "classification_report               precision    recall  f1-score   support\n",
      "\n",
      "           0       0.98      0.67      0.80        83\n",
      "           1       0.00      0.00      0.00         1\n",
      "\n",
      "    accuracy                           0.67        84\n",
      "   macro avg       0.49      0.34      0.40        84\n",
      "weighted avg       0.97      0.67      0.79        84\n",
      "\n",
      "confusion_matrix [[56 27]\n",
      " [ 1  0]]\n",
      "++++++++++++++++++++++++++++++++++++++++++++++++++++++++++++\n",
      "RandomForestClassifier(bootstrap=True, class_weight=None, criterion='gini',\n",
      "                       max_depth=None, max_features='auto', max_leaf_nodes=None,\n",
      "                       min_impurity_decrease=0.0, min_impurity_split=None,\n",
      "                       min_samples_leaf=1, min_samples_split=2,\n",
      "                       min_weight_fraction_leaf=0.0, n_estimators=100,\n",
      "                       n_jobs=None, oob_score=False, random_state=42, verbose=0,\n",
      "                       warm_start=False)\n"
     ]
    },
    {
     "name": "stderr",
     "output_type": "stream",
     "text": [
      "C:\\Users\\User\\Anaconda3\\lib\\site-packages\\sklearn\\svm\\base.py:193: FutureWarning: The default value of gamma will change from 'auto' to 'scale' in version 0.22 to account better for unscaled features. Set gamma explicitly to 'auto' or 'scale' to avoid this warning.\n",
      "  \"avoid this warning.\", FutureWarning)\n"
     ]
    },
    {
     "name": "stdout",
     "output_type": "stream",
     "text": [
      "accuracy_score 0.8571428571428571\n",
      "classification_report               precision    recall  f1-score   support\n",
      "\n",
      "           0       0.96      0.85      0.90        65\n",
      "           1       0.63      0.89      0.74        19\n",
      "\n",
      "    accuracy                           0.86        84\n",
      "   macro avg       0.80      0.87      0.82        84\n",
      "weighted avg       0.89      0.86      0.86        84\n",
      "\n",
      "confusion_matrix [[55 10]\n",
      " [ 2 17]]\n",
      "++++++++++++++++++++++++++++++++++++++++++++++++++++++++++++\n"
     ]
    }
   ],
   "source": [
    "TestModels = pd.DataFrame()\n",
    "tmp = {}\n",
    "\n",
    "for model in models:\n",
    "    print(model)\n",
    "    m = str(model)\n",
    "    tmp['Model'] = m[:m.index('(')]\n",
    "    \n",
    "    model.fit(X_train, y_train)\n",
    "    pred = model.predict(X_test)\n",
    "    tmp['accuracy_score'] = accuracy_score(pred, y_test)\n",
    "    tmp['classification_report'] = classification_report(pred, y_test)\n",
    "    tmp['confusion_matrix'] = confusion_matrix(pred, y_test)\n",
    "    \n",
    "    print('accuracy_score', accuracy_score(pred, y_test))\n",
    "    print('classification_report', classification_report(pred, y_test))\n",
    "    print('confusion_matrix', confusion_matrix(pred, y_test))\n",
    "    print(\"++++++++++++++++++++++++++++++++++++++++++++++++++++++++++++\")\n",
    "    TestModels = TestModels.append([tmp])\n",
    "TestModels.set_index('Model', inplace=True)\n",
    "\n",
    " \n"
   ]
  },
  {
   "cell_type": "code",
   "execution_count": 74,
   "metadata": {},
   "outputs": [
    {
     "data": {
      "text/html": [
       "<div>\n",
       "<style scoped>\n",
       "    .dataframe tbody tr th:only-of-type {\n",
       "        vertical-align: middle;\n",
       "    }\n",
       "\n",
       "    .dataframe tbody tr th {\n",
       "        vertical-align: top;\n",
       "    }\n",
       "\n",
       "    .dataframe thead th {\n",
       "        text-align: right;\n",
       "    }\n",
       "</style>\n",
       "<table border=\"1\" class=\"dataframe\">\n",
       "  <thead>\n",
       "    <tr style=\"text-align: right;\">\n",
       "      <th></th>\n",
       "      <th>accuracy_score</th>\n",
       "      <th>classification_report</th>\n",
       "      <th>confusion_matrix</th>\n",
       "    </tr>\n",
       "    <tr>\n",
       "      <th>Model</th>\n",
       "      <th></th>\n",
       "      <th></th>\n",
       "      <th></th>\n",
       "    </tr>\n",
       "  </thead>\n",
       "  <tbody>\n",
       "    <tr>\n",
       "      <td>LogisticRegression</td>\n",
       "      <td>0.821429</td>\n",
       "      <td>precision    recall  f1-score   ...</td>\n",
       "      <td>[[53, 11], [4, 16]]</td>\n",
       "    </tr>\n",
       "    <tr>\n",
       "      <td>LinearDiscriminantAnalysis</td>\n",
       "      <td>0.761905</td>\n",
       "      <td>precision    recall  f1-score   ...</td>\n",
       "      <td>[[52, 15], [5, 12]]</td>\n",
       "    </tr>\n",
       "    <tr>\n",
       "      <td>KNeighborsClassifier</td>\n",
       "      <td>0.773810</td>\n",
       "      <td>precision    recall  f1-score   ...</td>\n",
       "      <td>[[51, 13], [6, 14]]</td>\n",
       "    </tr>\n",
       "    <tr>\n",
       "      <td>GaussianNB</td>\n",
       "      <td>0.845238</td>\n",
       "      <td>precision    recall  f1-score   ...</td>\n",
       "      <td>[[54, 10], [3, 17]]</td>\n",
       "    </tr>\n",
       "    <tr>\n",
       "      <td>DecisionTreeClassifier</td>\n",
       "      <td>0.726190</td>\n",
       "      <td>precision    recall  f1-score   ...</td>\n",
       "      <td>[[48, 14], [9, 13]]</td>\n",
       "    </tr>\n",
       "    <tr>\n",
       "      <td>SVC</td>\n",
       "      <td>0.666667</td>\n",
       "      <td>precision    recall  f1-score   ...</td>\n",
       "      <td>[[56, 27], [1, 0]]</td>\n",
       "    </tr>\n",
       "    <tr>\n",
       "      <td>RandomForestClassifier</td>\n",
       "      <td>0.857143</td>\n",
       "      <td>precision    recall  f1-score   ...</td>\n",
       "      <td>[[55, 10], [2, 17]]</td>\n",
       "    </tr>\n",
       "  </tbody>\n",
       "</table>\n",
       "</div>"
      ],
      "text/plain": [
       "                            accuracy_score  \\\n",
       "Model                                        \n",
       "LogisticRegression                0.821429   \n",
       "LinearDiscriminantAnalysis        0.761905   \n",
       "KNeighborsClassifier              0.773810   \n",
       "GaussianNB                        0.845238   \n",
       "DecisionTreeClassifier            0.726190   \n",
       "SVC                               0.666667   \n",
       "RandomForestClassifier            0.857143   \n",
       "\n",
       "                                                        classification_report  \\\n",
       "Model                                                                           \n",
       "LogisticRegression                        precision    recall  f1-score   ...   \n",
       "LinearDiscriminantAnalysis                precision    recall  f1-score   ...   \n",
       "KNeighborsClassifier                      precision    recall  f1-score   ...   \n",
       "GaussianNB                                precision    recall  f1-score   ...   \n",
       "DecisionTreeClassifier                    precision    recall  f1-score   ...   \n",
       "SVC                                       precision    recall  f1-score   ...   \n",
       "RandomForestClassifier                    precision    recall  f1-score   ...   \n",
       "\n",
       "                               confusion_matrix  \n",
       "Model                                            \n",
       "LogisticRegression          [[53, 11], [4, 16]]  \n",
       "LinearDiscriminantAnalysis  [[52, 15], [5, 12]]  \n",
       "KNeighborsClassifier        [[51, 13], [6, 14]]  \n",
       "GaussianNB                  [[54, 10], [3, 17]]  \n",
       "DecisionTreeClassifier      [[48, 14], [9, 13]]  \n",
       "SVC                          [[56, 27], [1, 0]]  \n",
       "RandomForestClassifier      [[55, 10], [2, 17]]  "
      ]
     },
     "execution_count": 74,
     "metadata": {},
     "output_type": "execute_result"
    }
   ],
   "source": [
    "TestModels"
   ]
  },
  {
   "cell_type": "code",
   "execution_count": 76,
   "metadata": {},
   "outputs": [
    {
     "data": {
      "image/png": "[encoded data removed]",
      "text/plain": [
       "<Figure size 504x504 with 1 Axes>"
      ]
     },
     "metadata": {
      "needs_background": "light"
     },
     "output_type": "display_data"
    }
   ],
   "source": [
    "fig, axes = plt.subplots(ncols=1, figsize=(7, 7))\n",
    "TestModels.accuracy_score.plot(ax=axes, kind='bar', title='accuracy_score')\n",
    "plt.show()"
   ]
  },
  {
   "cell_type": "code",
   "execution_count": null,
   "metadata": {},
   "outputs": [],
   "source": []
  },
  {
   "cell_type": "code",
   "execution_count": null,
   "metadata": {},
   "outputs": [],
   "source": []
  },
  {
   "cell_type": "code",
   "execution_count": null,
   "metadata": {},
   "outputs": [],
   "source": []
  },
  {
   "cell_type": "code",
   "execution_count": null,
   "metadata": {},
   "outputs": [],
   "source": []
  },
  {
   "cell_type": "code",
   "execution_count": 77,
   "metadata": {},
   "outputs": [],
   "source": [
    "X = df.drop('DEATH_EVENT',axis=1)\n",
    "y = df['DEATH_EVENT']\n",
    "X_train, X_test, y_train, y_test = train_test_split(X, y, test_size=0.3, random_state=42)"
   ]
  },
  {
   "cell_type": "code",
   "execution_count": 78,
   "metadata": {},
   "outputs": [
    {
     "name": "stdout",
     "output_type": "stream",
     "text": [
      "(299, 12)\n",
      "(299,)\n"
     ]
    }
   ],
   "source": [
    "print(X.shape)\n",
    "print(y.shape)"
   ]
  },
  {
   "cell_type": "code",
   "execution_count": 79,
   "metadata": {},
   "outputs": [
    {
     "name": "stdout",
     "output_type": "stream",
     "text": [
      "LogisticRegression(C=1.0, class_weight=None, dual=False, fit_intercept=True,\n",
      "                   intercept_scaling=1, l1_ratio=None, max_iter=100,\n",
      "                   multi_class='warn', n_jobs=None, penalty='l1',\n",
      "                   random_state=None, solver='warn', tol=0.0001, verbose=0,\n",
      "                   warm_start=False)\n",
      "accuracy_score 0.7888888888888889\n",
      "classification_report               precision    recall  f1-score   support\n",
      "\n",
      "           0       0.92      0.77      0.84        64\n",
      "           1       0.59      0.85      0.70        26\n",
      "\n",
      "    accuracy                           0.79        90\n",
      "   macro avg       0.76      0.81      0.77        90\n",
      "weighted avg       0.83      0.79      0.80        90\n",
      "\n",
      "confusion_matrix [[49 15]\n",
      " [ 4 22]]\n",
      "++++++++++++++++++++++++++++++++++++++++++++++++++++++++++++\n",
      "LinearDiscriminantAnalysis(n_components=None, priors=None, shrinkage=None,\n",
      "                           solver='svd', store_covariance=False, tol=0.0001)\n",
      "accuracy_score 0.8111111111111111\n",
      "classification_report               precision    recall  f1-score   support\n",
      "\n",
      "           0       0.94      0.78      0.85        64\n",
      "           1       0.62      0.88      0.73        26\n",
      "\n",
      "    accuracy                           0.81        90\n",
      "   macro avg       0.78      0.83      0.79        90\n",
      "weighted avg       0.85      0.81      0.82        90\n",
      "\n",
      "confusion_matrix [[50 14]\n",
      " [ 3 23]]\n",
      "++++++++++++++++++++++++++++++++++++++++++++++++++++++++++++\n",
      "KNeighborsClassifier(algorithm='auto', leaf_size=30, metric='minkowski',\n",
      "                     metric_params=None, n_jobs=None, n_neighbors=5, p=2,\n",
      "                     weights='uniform')\n",
      "accuracy_score 0.5555555555555556\n",
      "classification_report               precision    recall  f1-score   support\n",
      "\n",
      "           0       0.87      0.58      0.70        79\n",
      "           1       0.11      0.36      0.17        11\n",
      "\n",
      "    accuracy                           0.56        90\n",
      "   macro avg       0.49      0.47      0.43        90\n",
      "weighted avg       0.78      0.56      0.63        90\n",
      "\n",
      "confusion_matrix [[46 33]\n",
      " [ 7  4]]\n",
      "++++++++++++++++++++++++++++++++++++++++++++++++++++++++++++\n",
      "GaussianNB(priors=None, var_smoothing=1e-09)\n",
      "accuracy_score 0.7666666666666667\n",
      "classification_report               precision    recall  f1-score   support\n",
      "\n",
      "           0       0.94      0.74      0.83        68\n",
      "           1       0.51      0.86      0.64        22\n",
      "\n",
      "    accuracy                           0.77        90\n",
      "   macro avg       0.73      0.80      0.74        90\n",
      "weighted avg       0.84      0.77      0.78        90\n",
      "\n",
      "confusion_matrix"
     ]
    },
    {
     "name": "stderr",
     "output_type": "stream",
     "text": [
      "C:\\Users\\User\\Anaconda3\\lib\\site-packages\\sklearn\\linear_model\\logistic.py:432: FutureWarning: Default solver will be changed to 'lbfgs' in 0.22. Specify a solver to silence this warning.\n",
      "  FutureWarning)\n"
     ]
    },
    {
     "name": "stdout",
     "output_type": "stream",
     "text": [
      " [[50 18]\n",
      " [ 3 19]]\n",
      "++++++++++++++++++++++++++++++++++++++++++++++++++++++++++++\n",
      "DecisionTreeClassifier(class_weight=None, criterion='gini', max_depth=None,\n",
      "                       max_features=None, max_leaf_nodes=None,\n",
      "                       min_impurity_decrease=0.0, min_impurity_split=None,\n",
      "                       min_samples_leaf=1, min_samples_split=2,\n",
      "                       min_weight_fraction_leaf=0.0, presort=False,\n",
      "                       random_state=42, splitter='best')\n",
      "accuracy_score 0.6777777777777778\n",
      "classification_report               precision    recall  f1-score   support\n",
      "\n",
      "           0       0.79      0.70      0.74        60\n",
      "           1       0.51      0.63      0.57        30\n",
      "\n",
      "    accuracy                           0.68        90\n",
      "   macro avg       0.65      0.67      0.66        90\n",
      "weighted avg       0.70      0.68      0.68        90\n",
      "\n",
      "confusion_matrix [[42 18]\n",
      " [11 19]]\n",
      "++++++++++++++++++++++++++++++++++++++++++++++++++++++++++++\n",
      "SVC(C=1.0, cache_size=200, class_weight=None, coef0=0.0,\n",
      "    decision_function_shape='ovr', degree=3, gamma='auto_deprecated',\n",
      "    kernel='rbf', max_iter=-1, probability=False, random_state=None,\n",
      "    shrinking=True, tol=0.001, verbose=False)\n",
      "accuracy_score 0.5888888888888889\n",
      "classification_report               precision    recall  f1-score   support\n",
      "\n",
      "           0       1.00      0.59      0.74        90\n",
      "           1       0.00      0.00      0.00         0\n",
      "\n",
      "    accuracy                           0.59        90\n",
      "   macro avg       0.50      0.29      0.37        90\n",
      "weighted avg       1.00      0.59      0.74        90\n",
      "\n",
      "confusion_matrix [[53 37]\n",
      " [ 0  0]]\n",
      "++++++++++++++++++++++++++++++++++++++++++++++++++++++++++++\n",
      "RandomForestClassifier(bootstrap=True, class_weight=None, criterion='gini',\n",
      "                       max_depth=None, max_features='auto', max_leaf_nodes=None,\n",
      "                       min_impurity_decrease=0.0, min_impurity_split=None,\n",
      "                       min_samples_leaf=1, min_samples_split=2,\n",
      "                       min_weight_fraction_leaf=0.0, n_estimators=100,\n",
      "                       n_jobs=None, oob_score=False, random_state=42, verbose=0,\n",
      "                       warm_start=False)\n"
     ]
    },
    {
     "name": "stderr",
     "output_type": "stream",
     "text": [
      "C:\\Users\\User\\Anaconda3\\lib\\site-packages\\sklearn\\svm\\base.py:193: FutureWarning: The default value of gamma will change from 'auto' to 'scale' in version 0.22 to account better for unscaled features. Set gamma explicitly to 'auto' or 'scale' to avoid this warning.\n",
      "  \"avoid this warning.\", FutureWarning)\n",
      "C:\\Users\\User\\Anaconda3\\lib\\site-packages\\sklearn\\metrics\\classification.py:1439: UndefinedMetricWarning: Recall and F-score are ill-defined and being set to 0.0 in labels with no true samples.\n",
      "  'recall', 'true', average, warn_for)\n"
     ]
    },
    {
     "name": "stdout",
     "output_type": "stream",
     "text": [
      "accuracy_score 0.7666666666666667\n",
      "classification_report               precision    recall  f1-score   support\n",
      "\n",
      "           0       0.91      0.75      0.82        64\n",
      "           1       0.57      0.81      0.67        26\n",
      "\n",
      "    accuracy                           0.77        90\n",
      "   macro avg       0.74      0.78      0.74        90\n",
      "weighted avg       0.81      0.77      0.78        90\n",
      "\n",
      "confusion_matrix [[48 16]\n",
      " [ 5 21]]\n",
      "++++++++++++++++++++++++++++++++++++++++++++++++++++++++++++\n"
     ]
    }
   ],
   "source": [
    "TestModels = pd.DataFrame()\n",
    "tmp = {}\n",
    "\n",
    "for model in models:\n",
    "    print(model)\n",
    "    m = str(model)\n",
    "    tmp['Model'] = m[:m.index('(')]\n",
    "    \n",
    "    model.fit(X_train, y_train)\n",
    "    pred = model.predict(X_test)\n",
    "    tmp['accuracy_score'] = accuracy_score(pred, y_test)\n",
    "    tmp['classification_report'] = classification_report(pred, y_test)\n",
    "    tmp['confusion_matrix'] = confusion_matrix(pred, y_test)\n",
    "    \n",
    "    print('accuracy_score', accuracy_score(pred, y_test))\n",
    "    print('classification_report', classification_report(pred, y_test))\n",
    "    print('confusion_matrix', confusion_matrix(pred, y_test))\n",
    "    print(\"++++++++++++++++++++++++++++++++++++++++++++++++++++++++++++\")\n",
    "    TestModels = TestModels.append([tmp])\n",
    "TestModels.set_index('Model', inplace=True)\n"
   ]
  },
  {
   "cell_type": "code",
   "execution_count": 80,
   "metadata": {},
   "outputs": [
    {
     "data": {
      "text/html": [
       "<div>\n",
       "<style scoped>\n",
       "    .dataframe tbody tr th:only-of-type {\n",
       "        vertical-align: middle;\n",
       "    }\n",
       "\n",
       "    .dataframe tbody tr th {\n",
       "        vertical-align: top;\n",
       "    }\n",
       "\n",
       "    .dataframe thead th {\n",
       "        text-align: right;\n",
       "    }\n",
       "</style>\n",
       "<table border=\"1\" class=\"dataframe\">\n",
       "  <thead>\n",
       "    <tr style=\"text-align: right;\">\n",
       "      <th></th>\n",
       "      <th>accuracy_score</th>\n",
       "      <th>classification_report</th>\n",
       "      <th>confusion_matrix</th>\n",
       "    </tr>\n",
       "    <tr>\n",
       "      <th>Model</th>\n",
       "      <th></th>\n",
       "      <th></th>\n",
       "      <th></th>\n",
       "    </tr>\n",
       "  </thead>\n",
       "  <tbody>\n",
       "    <tr>\n",
       "      <td>LogisticRegression</td>\n",
       "      <td>0.788889</td>\n",
       "      <td>precision    recall  f1-score   ...</td>\n",
       "      <td>[[49, 15], [4, 22]]</td>\n",
       "    </tr>\n",
       "    <tr>\n",
       "      <td>LinearDiscriminantAnalysis</td>\n",
       "      <td>0.811111</td>\n",
       "      <td>precision    recall  f1-score   ...</td>\n",
       "      <td>[[50, 14], [3, 23]]</td>\n",
       "    </tr>\n",
       "    <tr>\n",
       "      <td>KNeighborsClassifier</td>\n",
       "      <td>0.555556</td>\n",
       "      <td>precision    recall  f1-score   ...</td>\n",
       "      <td>[[46, 33], [7, 4]]</td>\n",
       "    </tr>\n",
       "    <tr>\n",
       "      <td>GaussianNB</td>\n",
       "      <td>0.766667</td>\n",
       "      <td>precision    recall  f1-score   ...</td>\n",
       "      <td>[[50, 18], [3, 19]]</td>\n",
       "    </tr>\n",
       "    <tr>\n",
       "      <td>DecisionTreeClassifier</td>\n",
       "      <td>0.677778</td>\n",
       "      <td>precision    recall  f1-score   ...</td>\n",
       "      <td>[[42, 18], [11, 19]]</td>\n",
       "    </tr>\n",
       "    <tr>\n",
       "      <td>SVC</td>\n",
       "      <td>0.588889</td>\n",
       "      <td>precision    recall  f1-score   ...</td>\n",
       "      <td>[[53, 37], [0, 0]]</td>\n",
       "    </tr>\n",
       "    <tr>\n",
       "      <td>RandomForestClassifier</td>\n",
       "      <td>0.766667</td>\n",
       "      <td>precision    recall  f1-score   ...</td>\n",
       "      <td>[[48, 16], [5, 21]]</td>\n",
       "    </tr>\n",
       "  </tbody>\n",
       "</table>\n",
       "</div>"
      ],
      "text/plain": [
       "                            accuracy_score  \\\n",
       "Model                                        \n",
       "LogisticRegression                0.788889   \n",
       "LinearDiscriminantAnalysis        0.811111   \n",
       "KNeighborsClassifier              0.555556   \n",
       "GaussianNB                        0.766667   \n",
       "DecisionTreeClassifier            0.677778   \n",
       "SVC                               0.588889   \n",
       "RandomForestClassifier            0.766667   \n",
       "\n",
       "                                                        classification_report  \\\n",
       "Model                                                                           \n",
       "LogisticRegression                        precision    recall  f1-score   ...   \n",
       "LinearDiscriminantAnalysis                precision    recall  f1-score   ...   \n",
       "KNeighborsClassifier                      precision    recall  f1-score   ...   \n",
       "GaussianNB                                precision    recall  f1-score   ...   \n",
       "DecisionTreeClassifier                    precision    recall  f1-score   ...   \n",
       "SVC                                       precision    recall  f1-score   ...   \n",
       "RandomForestClassifier                    precision    recall  f1-score   ...   \n",
       "\n",
       "                                confusion_matrix  \n",
       "Model                                             \n",
       "LogisticRegression           [[49, 15], [4, 22]]  \n",
       "LinearDiscriminantAnalysis   [[50, 14], [3, 23]]  \n",
       "KNeighborsClassifier          [[46, 33], [7, 4]]  \n",
       "GaussianNB                   [[50, 18], [3, 19]]  \n",
       "DecisionTreeClassifier      [[42, 18], [11, 19]]  \n",
       "SVC                           [[53, 37], [0, 0]]  \n",
       "RandomForestClassifier       [[48, 16], [5, 21]]  "
      ]
     },
     "execution_count": 80,
     "metadata": {},
     "output_type": "execute_result"
    }
   ],
   "source": [
    "TestModels"
   ]
  },
  {
   "cell_type": "code",
   "execution_count": null,
   "metadata": {},
   "outputs": [],
   "source": []
  }
 ],
 "metadata": {
  "kernelspec": {
   "display_name": "Python 3",
   "language": "python",
   "name": "python3"
  },
  "language_info": {
   "codemirror_mode": {
    "name": "ipython",
    "version": 3
   },
   "file_extension": ".py",
   "mimetype": "text/x-python",
   "name": "python",
   "nbconvert_exporter": "python",
   "pygments_lexer": "ipython3",
   "version": "3.7.4"
  }
 },
 "nbformat": 4,
 "nbformat_minor": 2
}
